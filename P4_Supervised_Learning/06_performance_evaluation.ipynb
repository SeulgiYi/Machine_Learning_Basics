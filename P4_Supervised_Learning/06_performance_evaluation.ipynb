{
 "cells": [
  {
   "cell_type": "code",
   "execution_count": 2,
   "metadata": {},
   "outputs": [
    {
     "data": {
      "text/plain": [
       "array([[2, 0, 0],\n",
       "       [0, 0, 1],\n",
       "       [1, 0, 2]])"
      ]
     },
     "execution_count": 2,
     "metadata": {},
     "output_type": "execute_result"
    }
   ],
   "source": [
    "# 분류 성능평가\n",
    "# Reference: https://datascienceschool.net/view-notebook/731e0d2ef52c41c686ba53dcaf346f32/\n",
    "\n",
    "import numpy as np\n",
    "import pandas as pd\n",
    "import matplotlib.pyplot as plt\n",
    "import seaborn as sns\n",
    "from sklearn.datasets import make_classification\n",
    "from matplotlib import rc\n",
    "import warnings\n",
    "warnings.filterwarnings(action=\"ignore\")\n",
    "rc('font', family=\"AppleGothic\")\n",
    "%matplotlib inline\n",
    "\n",
    "### 분류 결과표(Confusion Matrix)\n",
    "# row: original class\n",
    "# column: predicted class\n",
    "from sklearn.metrics import confusion_matrix\n",
    "y_true = [2, 0, 2, 2, 0, 1]\n",
    "y_pred = [0, 0, 2, 2, 0, 2]\n",
    "cnf_matrix = confusion_matrix(y_true, y_pred)\n",
    "cnf_matrix"
   ]
  },
  {
   "cell_type": "code",
   "execution_count": 5,
   "metadata": {},
   "outputs": [
    {
     "name": "stdout",
     "output_type": "stream",
     "text": [
      "Confusion matrix w/o normalization\n",
      "[[2 0 0]\n",
      " [0 0 1]\n",
      " [1 0 2]]\n"
     ]
    },
    {
     "data": {
      "image/png": "[encoded data removed]",
      "text/plain": [
       "<Figure size 432x288 with 2 Axes>"
      ]
     },
     "metadata": {
      "needs_background": "light"
     },
     "output_type": "display_data"
    }
   ],
   "source": [
    "# plot defined in kaggle article of Titanic data\n",
    "# Reference: https://www.kaggle.com/ldfreeman3/a-data-science-framework-to-achieve-99-accuracy\n",
    "import itertools\n",
    "def plot_confusion_matrix(cm, classes, normalize=False,\n",
    "                          title='Confusion matrix', cmap=plt.cm.Blues):\n",
    "    if normalize:\n",
    "        cm = cm.astype('float') / cm.sum(axis=1)[:, np.newaxis]\n",
    "        title = \"Normalized confusion matrix\"\n",
    "        #print(\"Normalized confusion matrix\")\n",
    "    else:\n",
    "        title = \"Confusion matrix w/o normalization\"\n",
    "        #print(\"Confusion matrix w/o normalization\")\n",
    "    print(title)\n",
    "    print(cm)\n",
    "    \n",
    "    plt.imshow(cm, interpolation='nearest', cmap=cmap)\n",
    "    plt.title(title)\n",
    "    plt.colorbar()\n",
    "    tick_marks = np.arange(len(classes))\n",
    "    plt.xticks(tick_marks, classes, rotation=45)\n",
    "    plt.yticks(tick_marks, classes)\n",
    "    \n",
    "    fmt = '.2f' if normalize else 'd'\n",
    "    thresh = cm.max() /2.0\n",
    "    for i, j in itertools.product(range(cm.shape[0]), range(cm.shape[1])):\n",
    "        plt.text(j,i,format(cm[i,j], fmt),\n",
    "                 horizontalalignment='center',\n",
    "                 color='white' if cm[i,j] > thresh else 'black')\n",
    "    plt.tight_layout()\n",
    "    plt.ylabel('True label')\n",
    "    plt.xlabel('Predicted label')\n",
    "\n",
    "class_names=['0','1','2']\n",
    "plt.figure()\n",
    "plot_confusion_matrix(cnf_matrix, classes=class_names)"
   ]
  },
  {
   "cell_type": "code",
   "execution_count": 6,
   "metadata": {},
   "outputs": [
    {
     "data": {
      "text/plain": [
       "array([[2, 0],\n",
       "       [1, 3]])"
      ]
     },
     "execution_count": 6,
     "metadata": {},
     "output_type": "execute_result"
    }
   ],
   "source": [
    "### 이진분류결과표(Binary Confusion Matrix)\n",
    "#            양성이라고 예측       |  음성이라고 예측\n",
    "# 실제 양성 |  True positive(TP)    False negative(FN)\n",
    "# 실제 음성 |  False positive(FP)   True negative()\n",
    "y_true = [1, 0, 1, 1, 0, 1]\n",
    "y_pred = [0, 0, 1, 1, 0, 1]\n",
    "confusion_matrix(y_true, y_pred)"
   ]
  },
  {
   "cell_type": "code",
   "execution_count": 8,
   "metadata": {},
   "outputs": [
    {
     "data": {
      "text/plain": [
       "array([[3, 1],\n",
       "       [0, 2]])"
      ]
     },
     "execution_count": 8,
     "metadata": {},
     "output_type": "execute_result"
    }
   ],
   "source": [
    "confusion_matrix(y_true, y_pred, labels=[1, 0]) #index ordering"
   ]
  },
  {
   "cell_type": "code",
   "execution_count": 9,
   "metadata": {},
   "outputs": [
    {
     "name": "stdout",
     "output_type": "stream",
     "text": [
      "              precision    recall  f1-score   support\n",
      "\n",
      "     class 0       0.75      0.60      0.67         5\n",
      "     class 1       0.33      0.50      0.40         2\n",
      "\n",
      "    accuracy                           0.57         7\n",
      "   macro avg       0.54      0.55      0.53         7\n",
      "weighted avg       0.63      0.57      0.59         7\n",
      "\n"
     ]
    }
   ],
   "source": [
    "### 평가점수(Score)\n",
    "# 정확도, Accuray = (TP+TN)/(TP+TN+FP+FN): 전체 샘플 중 맞게 예측한 샘플의 비율\n",
    "# 정밀도, Precision = (TP)/(TP+FP): 양성 클래스 중 실제로 양성 클래스에 속하는 샘플의 비율\n",
    "# 재현율, Recall = (TP)/(TP+FN): 실제 양성 클래스에 속한 표본 중에 양성 클래스에 속한다고 출력한 표본의 비율\n",
    "# 위양성율, Fallout = (FP)/(FP+TN): 실제 양성 클래스에 속하지 않는 표본 중에 양성 클래스에 속한다고 출력한 표본의 비율\n",
    "# F1 score = 2*precision*recall/(precision+recall)\n",
    "from sklearn.metrics import classification_report\n",
    "y_true = [0, 0, 0, 1, 1, 0, 0]\n",
    "y_pred = [0, 0, 0, 0, 1, 1, 1]\n",
    "print(classification_report(y_true, y_pred, target_names=['class 0','class 1']))\n"
   ]
  },
  {
   "cell_type": "code",
   "execution_count": 10,
   "metadata": {},
   "outputs": [
    {
     "name": "stdout",
     "output_type": "stream",
     "text": [
      "              precision    recall  f1-score   support\n",
      "\n",
      "     class 0       1.00      1.00      1.00         2\n",
      "     class 1       0.50      0.50      0.50         2\n",
      "     class 2       0.67      0.67      0.67         3\n",
      "\n",
      "    accuracy                           0.71         7\n",
      "   macro avg       0.72      0.72      0.72         7\n",
      "weighted avg       0.71      0.71      0.71         7\n",
      "\n"
     ]
    }
   ],
   "source": [
    "y_true = [0, 0, 1, 1, 2, 2, 2]\n",
    "y_pred = [0, 0, 1, 2, 2, 2, 1]\n",
    "target_names = ['class 0', 'class 1', 'class 2']\n",
    "print(classification_report(y_true, y_pred, target_names=target_names))"
   ]
  },
  {
   "cell_type": "code",
   "execution_count": 14,
   "metadata": {},
   "outputs": [
    {
     "data": {
      "text/html": [
       "<div>\n",
       "<style scoped>\n",
       "    .dataframe tbody tr th:only-of-type {\n",
       "        vertical-align: middle;\n",
       "    }\n",
       "\n",
       "    .dataframe tbody tr th {\n",
       "        vertical-align: top;\n",
       "    }\n",
       "\n",
       "    .dataframe thead th {\n",
       "        text-align: right;\n",
       "    }\n",
       "</style>\n",
       "<table border=\"1\" class=\"dataframe\">\n",
       "  <thead>\n",
       "    <tr style=\"text-align: right;\">\n",
       "      <th></th>\n",
       "      <th>f</th>\n",
       "      <th>y_hat</th>\n",
       "      <th>y</th>\n",
       "    </tr>\n",
       "  </thead>\n",
       "  <tbody>\n",
       "    <tr>\n",
       "      <th>0</th>\n",
       "      <td>2.167628</td>\n",
       "      <td>1.0</td>\n",
       "      <td>1.0</td>\n",
       "    </tr>\n",
       "    <tr>\n",
       "      <th>1</th>\n",
       "      <td>1.861485</td>\n",
       "      <td>1.0</td>\n",
       "      <td>1.0</td>\n",
       "    </tr>\n",
       "    <tr>\n",
       "      <th>2</th>\n",
       "      <td>1.482220</td>\n",
       "      <td>1.0</td>\n",
       "      <td>1.0</td>\n",
       "    </tr>\n",
       "    <tr>\n",
       "      <th>3</th>\n",
       "      <td>1.447944</td>\n",
       "      <td>1.0</td>\n",
       "      <td>1.0</td>\n",
       "    </tr>\n",
       "    <tr>\n",
       "      <th>4</th>\n",
       "      <td>1.432822</td>\n",
       "      <td>1.0</td>\n",
       "      <td>1.0</td>\n",
       "    </tr>\n",
       "    <tr>\n",
       "      <th>5</th>\n",
       "      <td>1.035662</td>\n",
       "      <td>1.0</td>\n",
       "      <td>1.0</td>\n",
       "    </tr>\n",
       "    <tr>\n",
       "      <th>6</th>\n",
       "      <td>0.244729</td>\n",
       "      <td>1.0</td>\n",
       "      <td>0.0</td>\n",
       "    </tr>\n",
       "    <tr>\n",
       "      <th>7</th>\n",
       "      <td>-0.063016</td>\n",
       "      <td>0.0</td>\n",
       "      <td>1.0</td>\n",
       "    </tr>\n",
       "    <tr>\n",
       "      <th>8</th>\n",
       "      <td>-0.582239</td>\n",
       "      <td>0.0</td>\n",
       "      <td>0.0</td>\n",
       "    </tr>\n",
       "    <tr>\n",
       "      <th>9</th>\n",
       "      <td>-0.878385</td>\n",
       "      <td>0.0</td>\n",
       "      <td>0.0</td>\n",
       "    </tr>\n",
       "    <tr>\n",
       "      <th>10</th>\n",
       "      <td>-1.027759</td>\n",
       "      <td>0.0</td>\n",
       "      <td>1.0</td>\n",
       "    </tr>\n",
       "    <tr>\n",
       "      <th>11</th>\n",
       "      <td>-1.153074</td>\n",
       "      <td>0.0</td>\n",
       "      <td>0.0</td>\n",
       "    </tr>\n",
       "    <tr>\n",
       "      <th>12</th>\n",
       "      <td>-1.332066</td>\n",
       "      <td>0.0</td>\n",
       "      <td>0.0</td>\n",
       "    </tr>\n",
       "    <tr>\n",
       "      <th>13</th>\n",
       "      <td>-1.526433</td>\n",
       "      <td>0.0</td>\n",
       "      <td>0.0</td>\n",
       "    </tr>\n",
       "    <tr>\n",
       "      <th>14</th>\n",
       "      <td>-2.175147</td>\n",
       "      <td>0.0</td>\n",
       "      <td>0.0</td>\n",
       "    </tr>\n",
       "    <tr>\n",
       "      <th>15</th>\n",
       "      <td>-4.148556</td>\n",
       "      <td>0.0</td>\n",
       "      <td>0.0</td>\n",
       "    </tr>\n",
       "  </tbody>\n",
       "</table>\n",
       "</div>"
      ],
      "text/plain": [
       "           f  y_hat    y\n",
       "0   2.167628    1.0  1.0\n",
       "1   1.861485    1.0  1.0\n",
       "2   1.482220    1.0  1.0\n",
       "3   1.447944    1.0  1.0\n",
       "4   1.432822    1.0  1.0\n",
       "5   1.035662    1.0  1.0\n",
       "6   0.244729    1.0  0.0\n",
       "7  -0.063016    0.0  1.0\n",
       "8  -0.582239    0.0  0.0\n",
       "9  -0.878385    0.0  0.0\n",
       "10 -1.027759    0.0  1.0\n",
       "11 -1.153074    0.0  0.0\n",
       "12 -1.332066    0.0  0.0\n",
       "13 -1.526433    0.0  0.0\n",
       "14 -2.175147    0.0  0.0\n",
       "15 -4.148556    0.0  0.0"
      ]
     },
     "execution_count": 14,
     "metadata": {},
     "output_type": "execute_result"
    }
   ],
   "source": [
    "### ROC 커브\n",
    "# : 클래스 판별 기준값의 변화에 따른 fallout과 recall의 변화를 시각화\n",
    "from sklearn.datasets import make_classification\n",
    "from sklearn.linear_model import LogisticRegression\n",
    "X, y = make_classification(n_samples=16, n_features=2, n_informative=2, \n",
    "                           n_redundant=0, random_state=0)\n",
    "model = LogisticRegression().fit(X, y)\n",
    "y_hat = model.predict(X)\n",
    "f_value = model.decision_function(X)\n",
    "\n",
    "df = pd.DataFrame(np.vstack([f_value, y_hat, y]).T, columns=[\"f\", \"y_hat\", \"y\"])\n",
    "df.sort_values(\"f\", ascending=False).reset_index(drop=True)\n",
    "\n",
    "# threshold = 0"
   ]
  },
  {
   "cell_type": "code",
   "execution_count": 15,
   "metadata": {},
   "outputs": [
    {
     "name": "stdout",
     "output_type": "stream",
     "text": [
      "Confusion matrix w/o normalization\n",
      "[[6 2]\n",
      " [1 7]]\n"
     ]
    },
    {
     "data": {
      "image/png": "[encoded data removed]",
      "text/plain": [
       "<Figure size 432x288 with 2 Axes>"
      ]
     },
     "metadata": {
      "needs_background": "light"
     },
     "output_type": "display_data"
    }
   ],
   "source": [
    "cnf_matrix = confusion_matrix(y, y_hat, labels=[1,0])\n",
    "plot_confusion_matrix(cnf_matrix,classes=['1','0'])"
   ]
  },
  {
   "cell_type": "code",
   "execution_count": 16,
   "metadata": {},
   "outputs": [
    {
     "name": "stdout",
     "output_type": "stream",
     "text": [
      "recall= 0.75\n",
      "fallout= 0.125\n"
     ]
    }
   ],
   "source": [
    "recall  = 6 / (6+2)\n",
    "fallout = 1 / (1+7)\n",
    "print(\"recall= {}\".format(recall))\n",
    "print(\"fallout= {}\".format(fallout))"
   ]
  },
  {
   "cell_type": "code",
   "execution_count": 22,
   "metadata": {},
   "outputs": [
    {
     "data": {
      "text/html": [
       "<div>\n",
       "<style scoped>\n",
       "    .dataframe tbody tr th:only-of-type {\n",
       "        vertical-align: middle;\n",
       "    }\n",
       "\n",
       "    .dataframe tbody tr th {\n",
       "        vertical-align: top;\n",
       "    }\n",
       "\n",
       "    .dataframe thead th {\n",
       "        text-align: right;\n",
       "    }\n",
       "</style>\n",
       "<table border=\"1\" class=\"dataframe\">\n",
       "  <thead>\n",
       "    <tr style=\"text-align: right;\">\n",
       "      <th></th>\n",
       "      <th>Threshold</th>\n",
       "      <th>Recall</th>\n",
       "      <th>Fallout</th>\n",
       "    </tr>\n",
       "  </thead>\n",
       "  <tbody>\n",
       "    <tr>\n",
       "      <th>0</th>\n",
       "      <td>3.167628</td>\n",
       "      <td>0.000</td>\n",
       "      <td>0.000</td>\n",
       "    </tr>\n",
       "    <tr>\n",
       "      <th>1</th>\n",
       "      <td>2.167628</td>\n",
       "      <td>0.125</td>\n",
       "      <td>0.000</td>\n",
       "    </tr>\n",
       "    <tr>\n",
       "      <th>2</th>\n",
       "      <td>1.035662</td>\n",
       "      <td>0.750</td>\n",
       "      <td>0.000</td>\n",
       "    </tr>\n",
       "    <tr>\n",
       "      <th>3</th>\n",
       "      <td>0.244729</td>\n",
       "      <td>0.750</td>\n",
       "      <td>0.125</td>\n",
       "    </tr>\n",
       "    <tr>\n",
       "      <th>4</th>\n",
       "      <td>-0.063016</td>\n",
       "      <td>0.875</td>\n",
       "      <td>0.125</td>\n",
       "    </tr>\n",
       "    <tr>\n",
       "      <th>5</th>\n",
       "      <td>-0.878385</td>\n",
       "      <td>0.875</td>\n",
       "      <td>0.375</td>\n",
       "    </tr>\n",
       "    <tr>\n",
       "      <th>6</th>\n",
       "      <td>-1.027759</td>\n",
       "      <td>1.000</td>\n",
       "      <td>0.375</td>\n",
       "    </tr>\n",
       "    <tr>\n",
       "      <th>7</th>\n",
       "      <td>-4.148556</td>\n",
       "      <td>1.000</td>\n",
       "      <td>1.000</td>\n",
       "    </tr>\n",
       "  </tbody>\n",
       "</table>\n",
       "</div>"
      ],
      "text/plain": [
       "   Threshold  Recall  Fallout\n",
       "0   3.167628   0.000    0.000\n",
       "1   2.167628   0.125    0.000\n",
       "2   1.035662   0.750    0.000\n",
       "3   0.244729   0.750    0.125\n",
       "4  -0.063016   0.875    0.125\n",
       "5  -0.878385   0.875    0.375\n",
       "6  -1.027759   1.000    0.375\n",
       "7  -4.148556   1.000    1.000"
      ]
     },
     "execution_count": 22,
     "metadata": {},
     "output_type": "execute_result"
    }
   ],
   "source": [
    "from sklearn.metrics import roc_curve\n",
    "\n",
    "# ROC curve using decision function\n",
    "fpr, tpr, thresholds = roc_curve(y, model.decision_function(X))\n",
    "df = pd.DataFrame(np.vstack([thresholds, tpr, fpr]).T, \n",
    "                  columns=[\"Threshold\", \"Recall\", \"Fallout\"])\n",
    "df"
   ]
  },
  {
   "cell_type": "code",
   "execution_count": 23,
   "metadata": {},
   "outputs": [
    {
     "data": {
      "text/html": [
       "<div>\n",
       "<style scoped>\n",
       "    .dataframe tbody tr th:only-of-type {\n",
       "        vertical-align: middle;\n",
       "    }\n",
       "\n",
       "    .dataframe tbody tr th {\n",
       "        vertical-align: top;\n",
       "    }\n",
       "\n",
       "    .dataframe thead th {\n",
       "        text-align: right;\n",
       "    }\n",
       "</style>\n",
       "<table border=\"1\" class=\"dataframe\">\n",
       "  <thead>\n",
       "    <tr style=\"text-align: right;\">\n",
       "      <th></th>\n",
       "      <th>Threshold</th>\n",
       "      <th>Recall</th>\n",
       "      <th>Fallout</th>\n",
       "    </tr>\n",
       "  </thead>\n",
       "  <tbody>\n",
       "    <tr>\n",
       "      <th>0</th>\n",
       "      <td>1.897305</td>\n",
       "      <td>0.000</td>\n",
       "      <td>0.000</td>\n",
       "    </tr>\n",
       "    <tr>\n",
       "      <th>1</th>\n",
       "      <td>0.897305</td>\n",
       "      <td>0.125</td>\n",
       "      <td>0.000</td>\n",
       "    </tr>\n",
       "    <tr>\n",
       "      <th>2</th>\n",
       "      <td>0.738012</td>\n",
       "      <td>0.750</td>\n",
       "      <td>0.000</td>\n",
       "    </tr>\n",
       "    <tr>\n",
       "      <th>3</th>\n",
       "      <td>0.560879</td>\n",
       "      <td>0.750</td>\n",
       "      <td>0.125</td>\n",
       "    </tr>\n",
       "    <tr>\n",
       "      <th>4</th>\n",
       "      <td>0.484251</td>\n",
       "      <td>0.875</td>\n",
       "      <td>0.125</td>\n",
       "    </tr>\n",
       "    <tr>\n",
       "      <th>5</th>\n",
       "      <td>0.293513</td>\n",
       "      <td>0.875</td>\n",
       "      <td>0.375</td>\n",
       "    </tr>\n",
       "    <tr>\n",
       "      <th>6</th>\n",
       "      <td>0.263519</td>\n",
       "      <td>1.000</td>\n",
       "      <td>0.375</td>\n",
       "    </tr>\n",
       "    <tr>\n",
       "      <th>7</th>\n",
       "      <td>0.015542</td>\n",
       "      <td>1.000</td>\n",
       "      <td>1.000</td>\n",
       "    </tr>\n",
       "  </tbody>\n",
       "</table>\n",
       "</div>"
      ],
      "text/plain": [
       "   Threshold  Recall  Fallout\n",
       "0   1.897305   0.000    0.000\n",
       "1   0.897305   0.125    0.000\n",
       "2   0.738012   0.750    0.000\n",
       "3   0.560879   0.750    0.125\n",
       "4   0.484251   0.875    0.125\n",
       "5   0.293513   0.875    0.375\n",
       "6   0.263519   1.000    0.375\n",
       "7   0.015542   1.000    1.000"
      ]
     },
     "execution_count": 23,
     "metadata": {},
     "output_type": "execute_result"
    }
   ],
   "source": [
    "# ROC curve using prediction probabiliy\n",
    "fpr, tpr, thresholds = roc_curve(y, model.predict_proba(X)[:,1])\n",
    "df = pd.DataFrame(np.vstack([thresholds, tpr, fpr]).T, \n",
    "                  columns=[\"Threshold\", \"Recall\", \"Fallout\"])\n",
    "df"
   ]
  },
  {
   "cell_type": "code",
   "execution_count": 25,
   "metadata": {},
   "outputs": [
    {
     "data": {
      "image/png": "[encoded data removed]",
      "text/plain": [
       "<Figure size 432x288 with 1 Axes>"
      ]
     },
     "metadata": {
      "needs_background": "light"
     },
     "output_type": "display_data"
    }
   ],
   "source": [
    "plt.plot(fpr, tpr, 'o-', label=\"Logistic Regression\")\n",
    "plt.plot([0,1], [0,1], 'k--', label='random guess')\n",
    "plt.plot([fallout], [recall], 'ro', ms=10)\n",
    "plt.xlabel('위양성률(Fallout)')\n",
    "plt.ylabel('재현률(Recall)')\n",
    "plt.title('ROC example')\n",
    "plt.legend()\n",
    "plt.show()"
   ]
  },
  {
   "cell_type": "code",
   "execution_count": 28,
   "metadata": {},
   "outputs": [],
   "source": [
    "# scikit-learn packages maximize the model's accuracy\n",
    "# ROC curve can be different even when two models have same accuracy, precision and recall \n",
    "from sklearn.datasets import make_classification\n",
    "from sklearn.linear_model import LogisticRegression\n",
    "from sklearn.svm import SVC\n",
    "\n",
    "X, y = make_classification(n_samples=1000, weights=[0.95, 0.05], random_state=5)\n",
    "\n",
    "model1 = LogisticRegression().fit(X,y)\n",
    "y_hat1 = model1.predict(X)\n",
    "\n",
    "model2 = SVC(gamma=0.0001, C=3000, probability=True).fit(X,y)\n",
    "y_hat2 = model2.predict(X)\n",
    "\n",
    "class_names = ['0', '1']"
   ]
  },
  {
   "cell_type": "code",
   "execution_count": 29,
   "metadata": {},
   "outputs": [],
   "source": [
    "cnf_matrix1 = confusion_matrix(y, y_hat1)\n",
    "cnf_matrix2 = confusion_matrix(y, y_hat2)"
   ]
  },
  {
   "cell_type": "code",
   "execution_count": 30,
   "metadata": {},
   "outputs": [
    {
     "name": "stdout",
     "output_type": "stream",
     "text": [
      "Confusion matrix w/o normalization\n",
      "[[940   3]\n",
      " [ 30  27]]\n"
     ]
    },
    {
     "data": {
      "image/png": "[encoded data removed]",
      "text/plain": [
       "<Figure size 432x288 with 2 Axes>"
      ]
     },
     "metadata": {
      "needs_background": "light"
     },
     "output_type": "display_data"
    }
   ],
   "source": [
    "plot_confusion_matrix(cnf_matrix1, classes=class_names)\n",
    "# Logistic Regression"
   ]
  },
  {
   "cell_type": "code",
   "execution_count": 31,
   "metadata": {},
   "outputs": [
    {
     "name": "stdout",
     "output_type": "stream",
     "text": [
      "Confusion matrix w/o normalization\n",
      "[[940   3]\n",
      " [ 30  27]]\n"
     ]
    },
    {
     "data": {
      "image/png": "[encoded data removed]",
      "text/plain": [
       "<Figure size 432x288 with 2 Axes>"
      ]
     },
     "metadata": {
      "needs_background": "light"
     },
     "output_type": "display_data"
    }
   ],
   "source": [
    "plot_confusion_matrix(cnf_matrix2, classes=class_names)\n",
    "# Logistic Regression"
   ]
  },
  {
   "cell_type": "code",
   "execution_count": 32,
   "metadata": {},
   "outputs": [
    {
     "name": "stdout",
     "output_type": "stream",
     "text": [
      "              precision    recall  f1-score   support\n",
      "\n",
      "           0       0.97      1.00      0.98       943\n",
      "           1       0.90      0.47      0.62        57\n",
      "\n",
      "    accuracy                           0.97      1000\n",
      "   macro avg       0.93      0.74      0.80      1000\n",
      "weighted avg       0.97      0.97      0.96      1000\n",
      "\n"
     ]
    }
   ],
   "source": [
    "print(classification_report(y, model1.predict(X)))"
   ]
  },
  {
   "cell_type": "code",
   "execution_count": 33,
   "metadata": {},
   "outputs": [
    {
     "name": "stdout",
     "output_type": "stream",
     "text": [
      "              precision    recall  f1-score   support\n",
      "\n",
      "           0       0.97      1.00      0.98       943\n",
      "           1       0.90      0.47      0.62        57\n",
      "\n",
      "    accuracy                           0.97      1000\n",
      "   macro avg       0.93      0.74      0.80      1000\n",
      "weighted avg       0.97      0.97      0.96      1000\n",
      "\n"
     ]
    }
   ],
   "source": [
    "print(classification_report(y, model2.predict(X)))"
   ]
  },
  {
   "cell_type": "code",
   "execution_count": 34,
   "metadata": {},
   "outputs": [
    {
     "data": {
      "image/png": "[encoded data removed]",
      "text/plain": [
       "<Figure size 432x288 with 1 Axes>"
      ]
     },
     "metadata": {
      "needs_background": "light"
     },
     "output_type": "display_data"
    }
   ],
   "source": [
    "fpr1, tpr1, thresholds1 = roc_curve(y, model1.decision_function(X))\n",
    "fpr2, tpr2, thresholds2 = roc_curve(y, model2.decision_function(X))\n",
    "\n",
    "plt.plot(fpr1, tpr1, 'o-', ms=2, label=\"Logistic Regression\")\n",
    "plt.plot(fpr2, tpr2, 'o-', ms=2, label=\"Kernel SVM\")\n",
    "plt.plot([0,1],[0,1],'k--', label=\"Random guess\")\n",
    "plt.legend()\n",
    "plt.xlabel(\"위양성률(fallout)\")\n",
    "plt.ylabel(\"재현율(recall)\")\n",
    "plt.title(\"ROC 커브\")\n",
    "plt.show()"
   ]
  },
  {
   "cell_type": "code",
   "execution_count": 35,
   "metadata": {},
   "outputs": [
    {
     "data": {
      "text/plain": [
       "(0.9112016520622872, 0.9037227214377407)"
      ]
     },
     "execution_count": 35,
     "metadata": {},
     "output_type": "execute_result"
    }
   ],
   "source": [
    "### Area Under Curve(AUC)\n",
    "# 1에 가까운 값이 좋은 모형\n",
    "from sklearn.metrics import auc\n",
    "auc(fpr1, tpr1), auc(fpr2, tpr2)"
   ]
  },
  {
   "cell_type": "code",
   "execution_count": 38,
   "metadata": {},
   "outputs": [
    {
     "data": {
      "image/png": "[encoded data removed]",
      "text/plain": [
       "<Figure size 432x288 with 1 Axes>"
      ]
     },
     "metadata": {
      "needs_background": "light"
     },
     "output_type": "display_data"
    }
   ],
   "source": [
    "# 다중 클래스의 경우 각각의 One-vs-Rest(OvR) 에 대해  ROC커브를 그림\n",
    "from sklearn.naive_bayes import GaussianNB\n",
    "from sklearn.datasets import load_iris\n",
    "from sklearn.preprocessing import label_binarize\n",
    "\n",
    "iris = load_iris()\n",
    "X = iris.data\n",
    "y = label_binarize(iris.target, [0,1,2])\n",
    "\n",
    "fpr = [None]*3\n",
    "tpr = [None]*3\n",
    "thr = [None]*3\n",
    "\n",
    "for i in range(3):\n",
    "    model = GaussianNB().fit(X,y[:,i])\n",
    "    fpr[i], tpr[i], thr[i] = roc_curve(y[:,i], model.predict_proba(X)[:, 1])\n",
    "    plt.plot(fpr[i], tpr[i], label=\"{}\".format(i+1))\n",
    "plt.xlabel('위양성률(fallout)')\n",
    "plt.ylabel('재현률(recall)')\n",
    "plt.legend()\n",
    "plt.show()"
   ]
  },
  {
   "cell_type": "code",
   "execution_count": null,
   "metadata": {},
   "outputs": [],
   "source": []
  }
 ],
 "metadata": {
  "kernelspec": {
   "display_name": "Python [conda env:ptlesson] *",
   "language": "python",
   "name": "conda-env-ptlesson-py"
  },
  "language_info": {
   "codemirror_mode": {
    "name": "ipython",
    "version": 3
   },
   "file_extension": ".py",
   "mimetype": "text/x-python",
   "name": "python",
   "nbconvert_exporter": "python",
   "pygments_lexer": "ipython3",
   "version": "3.7.1"
  }
 },
 "nbformat": 4,
 "nbformat_minor": 4
}
