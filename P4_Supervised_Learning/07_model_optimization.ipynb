{
 "cells": [
  {
   "cell_type": "code",
   "execution_count": 1,
   "metadata": {},
   "outputs": [],
   "source": [
    "# 모형 최적화: 파라미터 튜닝\n",
    "# ref: https://datascienceschool.net/view-notebook/ff4b5d491cc34f94aea04baca86fbef8/\n",
    "\n",
    "import numpy as np\n",
    "import pandas as pd\n",
    "import matplotlib.pyplot as plt\n",
    "import seaborn as sns\n",
    "from sklearn.datasets import make_classification\n",
    "from matplotlib import rc\n",
    "import matplotlib as mpl\n",
    "import warnings\n",
    "warnings.filterwarnings(action=\"ignore\")\n",
    "rc('font', family=\"AppleGothic\")\n",
    "%matplotlib inline\n",
    "\n",
    "### Validation Curve: 성능 기준 세팅\n",
    "from sklearn.datasets import load_digits\n",
    "from sklearn.svm import SVC\n",
    "from sklearn.model_selection import validation_curve\n",
    "\n",
    "digits= load_digits()\n",
    "X, y = digits.data, digits.target\n",
    "\n",
    "param_range = np.logspace(-6, -1, 10)"
   ]
  },
  {
   "cell_type": "code",
   "execution_count": 2,
   "metadata": {},
   "outputs": [
    {
     "name": "stdout",
     "output_type": "stream",
     "text": [
      "CPU times: user 52.7 s, sys: 111 ms, total: 52.8 s\n",
      "Wall time: 53 s\n"
     ]
    }
   ],
   "source": [
    "%%time\n",
    "train_scores, test_scores = validation_curve(\n",
    "                                SVC(), X, y, \n",
    "                                param_name=\"gamma\", \n",
    "                                param_range=param_range,\n",
    "                                cv=10, \n",
    "                                scoring=\"accuracy\",\n",
    "                                n_jobs=1  # number of jobs to run in parallel: -1 means using all processors\n",
    ")"
   ]
  },
  {
   "cell_type": "code",
   "execution_count": 5,
   "metadata": {},
   "outputs": [
    {
     "data": {
      "image/png": "[encoded data removed]",
      "text/plain": [
       "<Figure size 432x288 with 1 Axes>"
      ]
     },
     "metadata": {
      "needs_background": "light"
     },
     "output_type": "display_data"
    }
   ],
   "source": [
    "train_scores_mean = np.mean(train_scores, axis=1)\n",
    "train_scores_std  = np.std(train_scores, axis=1)\n",
    "test_scores_mean  = np.mean(test_scores, axis=1)\n",
    "test_scores_std   = np.std(test_scores, axis=1)\n",
    "\n",
    "mpl.rcParams['font.family'] = 'DejaVu Sans'\n",
    "plt.semilogx(param_range, train_scores_mean, label=\"Training score\", color=\"r\")\n",
    "plt.fill_between(param_range, \n",
    "                 train_scores_mean - train_scores_std, \n",
    "                 train_scores_mean + train_scores_std, alpha=0.2, color=\"r\")\n",
    "plt.semilogx(param_range, test_scores_mean, label=\"Cross-validation score\", color=\"g\")\n",
    "plt.fill_between(param_range, \n",
    "                 test_scores_mean - test_scores_std, \n",
    "                 test_scores_mean + test_scores_std, alpha=0.2, color=\"g\")\n",
    "plt.legend(loc=\"best\")\n",
    "plt.xlabel(\"$\\gamma$\")\n",
    "plt.ylabel(\"Score\")\n",
    "plt.title(\"Validation Curve w/ SVM\")\n",
    "plt.show()"
   ]
  },
  {
   "cell_type": "code",
   "execution_count": 7,
   "metadata": {},
   "outputs": [
    {
     "name": "stdout",
     "output_type": "stream",
     "text": [
      "CPU times: user 5min 17s, sys: 2.1 s, total: 5min 19s\n",
      "Wall time: 5min 19s\n"
     ]
    }
   ],
   "source": [
    "### Grid Search \n",
    "from sklearn.model_selection import GridSearchCV\n",
    "from sklearn.pipeline import Pipeline\n",
    "from sklearn.preprocessing import StandardScaler # substracts mean, unit variant\n",
    "from sklearn.svm import SVC\n",
    "\n",
    "pipe_svc = Pipeline([('scl', StandardScaler()), ('clf', SVC(random_state=1))])\n",
    "param_range = [ np.exp(-4+i) for i in range(8) ]\n",
    "param_grid = [\n",
    "    {'clf__C' : param_range, 'clf__kernel': ['linear']},\n",
    "    {'clf__C' : param_range, 'clf__gamma': param_range, 'clf__kernel':['rbf']}\n",
    "]\n",
    "gs = GridSearchCV(estimator=pipe_svc, param_grid=param_grid,\n",
    "                  scoring='accuracy', cv=10, n_jobs=1)\n",
    "%time gs = gs.fit(X, y)"
   ]
  },
  {
   "cell_type": "code",
   "execution_count": 8,
   "metadata": {},
   "outputs": [
    {
     "data": {
      "text/plain": [
       "[{'clf__C': 0.01831563888873418, 'clf__kernel': 'linear'},\n",
       " {'clf__C': 0.049787068367863944, 'clf__kernel': 'linear'},\n",
       " {'clf__C': 0.1353352832366127, 'clf__kernel': 'linear'},\n",
       " {'clf__C': 0.36787944117144233, 'clf__kernel': 'linear'},\n",
       " {'clf__C': 1.0, 'clf__kernel': 'linear'},\n",
       " {'clf__C': 2.718281828459045, 'clf__kernel': 'linear'},\n",
       " {'clf__C': 7.38905609893065, 'clf__kernel': 'linear'},\n",
       " {'clf__C': 20.085536923187668, 'clf__kernel': 'linear'},\n",
       " {'clf__C': 0.01831563888873418,\n",
       "  'clf__gamma': 0.01831563888873418,\n",
       "  'clf__kernel': 'rbf'},\n",
       " {'clf__C': 0.01831563888873418,\n",
       "  'clf__gamma': 0.049787068367863944,\n",
       "  'clf__kernel': 'rbf'},\n",
       " {'clf__C': 0.01831563888873418,\n",
       "  'clf__gamma': 0.1353352832366127,\n",
       "  'clf__kernel': 'rbf'},\n",
       " {'clf__C': 0.01831563888873418,\n",
       "  'clf__gamma': 0.36787944117144233,\n",
       "  'clf__kernel': 'rbf'},\n",
       " {'clf__C': 0.01831563888873418, 'clf__gamma': 1.0, 'clf__kernel': 'rbf'},\n",
       " {'clf__C': 0.01831563888873418,\n",
       "  'clf__gamma': 2.718281828459045,\n",
       "  'clf__kernel': 'rbf'},\n",
       " {'clf__C': 0.01831563888873418,\n",
       "  'clf__gamma': 7.38905609893065,\n",
       "  'clf__kernel': 'rbf'},\n",
       " {'clf__C': 0.01831563888873418,\n",
       "  'clf__gamma': 20.085536923187668,\n",
       "  'clf__kernel': 'rbf'},\n",
       " {'clf__C': 0.049787068367863944,\n",
       "  'clf__gamma': 0.01831563888873418,\n",
       "  'clf__kernel': 'rbf'},\n",
       " {'clf__C': 0.049787068367863944,\n",
       "  'clf__gamma': 0.049787068367863944,\n",
       "  'clf__kernel': 'rbf'},\n",
       " {'clf__C': 0.049787068367863944,\n",
       "  'clf__gamma': 0.1353352832366127,\n",
       "  'clf__kernel': 'rbf'},\n",
       " {'clf__C': 0.049787068367863944,\n",
       "  'clf__gamma': 0.36787944117144233,\n",
       "  'clf__kernel': 'rbf'},\n",
       " {'clf__C': 0.049787068367863944, 'clf__gamma': 1.0, 'clf__kernel': 'rbf'},\n",
       " {'clf__C': 0.049787068367863944,\n",
       "  'clf__gamma': 2.718281828459045,\n",
       "  'clf__kernel': 'rbf'},\n",
       " {'clf__C': 0.049787068367863944,\n",
       "  'clf__gamma': 7.38905609893065,\n",
       "  'clf__kernel': 'rbf'},\n",
       " {'clf__C': 0.049787068367863944,\n",
       "  'clf__gamma': 20.085536923187668,\n",
       "  'clf__kernel': 'rbf'},\n",
       " {'clf__C': 0.1353352832366127,\n",
       "  'clf__gamma': 0.01831563888873418,\n",
       "  'clf__kernel': 'rbf'},\n",
       " {'clf__C': 0.1353352832366127,\n",
       "  'clf__gamma': 0.049787068367863944,\n",
       "  'clf__kernel': 'rbf'},\n",
       " {'clf__C': 0.1353352832366127,\n",
       "  'clf__gamma': 0.1353352832366127,\n",
       "  'clf__kernel': 'rbf'},\n",
       " {'clf__C': 0.1353352832366127,\n",
       "  'clf__gamma': 0.36787944117144233,\n",
       "  'clf__kernel': 'rbf'},\n",
       " {'clf__C': 0.1353352832366127, 'clf__gamma': 1.0, 'clf__kernel': 'rbf'},\n",
       " {'clf__C': 0.1353352832366127,\n",
       "  'clf__gamma': 2.718281828459045,\n",
       "  'clf__kernel': 'rbf'},\n",
       " {'clf__C': 0.1353352832366127,\n",
       "  'clf__gamma': 7.38905609893065,\n",
       "  'clf__kernel': 'rbf'},\n",
       " {'clf__C': 0.1353352832366127,\n",
       "  'clf__gamma': 20.085536923187668,\n",
       "  'clf__kernel': 'rbf'},\n",
       " {'clf__C': 0.36787944117144233,\n",
       "  'clf__gamma': 0.01831563888873418,\n",
       "  'clf__kernel': 'rbf'},\n",
       " {'clf__C': 0.36787944117144233,\n",
       "  'clf__gamma': 0.049787068367863944,\n",
       "  'clf__kernel': 'rbf'},\n",
       " {'clf__C': 0.36787944117144233,\n",
       "  'clf__gamma': 0.1353352832366127,\n",
       "  'clf__kernel': 'rbf'},\n",
       " {'clf__C': 0.36787944117144233,\n",
       "  'clf__gamma': 0.36787944117144233,\n",
       "  'clf__kernel': 'rbf'},\n",
       " {'clf__C': 0.36787944117144233, 'clf__gamma': 1.0, 'clf__kernel': 'rbf'},\n",
       " {'clf__C': 0.36787944117144233,\n",
       "  'clf__gamma': 2.718281828459045,\n",
       "  'clf__kernel': 'rbf'},\n",
       " {'clf__C': 0.36787944117144233,\n",
       "  'clf__gamma': 7.38905609893065,\n",
       "  'clf__kernel': 'rbf'},\n",
       " {'clf__C': 0.36787944117144233,\n",
       "  'clf__gamma': 20.085536923187668,\n",
       "  'clf__kernel': 'rbf'},\n",
       " {'clf__C': 1.0, 'clf__gamma': 0.01831563888873418, 'clf__kernel': 'rbf'},\n",
       " {'clf__C': 1.0, 'clf__gamma': 0.049787068367863944, 'clf__kernel': 'rbf'},\n",
       " {'clf__C': 1.0, 'clf__gamma': 0.1353352832366127, 'clf__kernel': 'rbf'},\n",
       " {'clf__C': 1.0, 'clf__gamma': 0.36787944117144233, 'clf__kernel': 'rbf'},\n",
       " {'clf__C': 1.0, 'clf__gamma': 1.0, 'clf__kernel': 'rbf'},\n",
       " {'clf__C': 1.0, 'clf__gamma': 2.718281828459045, 'clf__kernel': 'rbf'},\n",
       " {'clf__C': 1.0, 'clf__gamma': 7.38905609893065, 'clf__kernel': 'rbf'},\n",
       " {'clf__C': 1.0, 'clf__gamma': 20.085536923187668, 'clf__kernel': 'rbf'},\n",
       " {'clf__C': 2.718281828459045,\n",
       "  'clf__gamma': 0.01831563888873418,\n",
       "  'clf__kernel': 'rbf'},\n",
       " {'clf__C': 2.718281828459045,\n",
       "  'clf__gamma': 0.049787068367863944,\n",
       "  'clf__kernel': 'rbf'},\n",
       " {'clf__C': 2.718281828459045,\n",
       "  'clf__gamma': 0.1353352832366127,\n",
       "  'clf__kernel': 'rbf'},\n",
       " {'clf__C': 2.718281828459045,\n",
       "  'clf__gamma': 0.36787944117144233,\n",
       "  'clf__kernel': 'rbf'},\n",
       " {'clf__C': 2.718281828459045, 'clf__gamma': 1.0, 'clf__kernel': 'rbf'},\n",
       " {'clf__C': 2.718281828459045,\n",
       "  'clf__gamma': 2.718281828459045,\n",
       "  'clf__kernel': 'rbf'},\n",
       " {'clf__C': 2.718281828459045,\n",
       "  'clf__gamma': 7.38905609893065,\n",
       "  'clf__kernel': 'rbf'},\n",
       " {'clf__C': 2.718281828459045,\n",
       "  'clf__gamma': 20.085536923187668,\n",
       "  'clf__kernel': 'rbf'},\n",
       " {'clf__C': 7.38905609893065,\n",
       "  'clf__gamma': 0.01831563888873418,\n",
       "  'clf__kernel': 'rbf'},\n",
       " {'clf__C': 7.38905609893065,\n",
       "  'clf__gamma': 0.049787068367863944,\n",
       "  'clf__kernel': 'rbf'},\n",
       " {'clf__C': 7.38905609893065,\n",
       "  'clf__gamma': 0.1353352832366127,\n",
       "  'clf__kernel': 'rbf'},\n",
       " {'clf__C': 7.38905609893065,\n",
       "  'clf__gamma': 0.36787944117144233,\n",
       "  'clf__kernel': 'rbf'},\n",
       " {'clf__C': 7.38905609893065, 'clf__gamma': 1.0, 'clf__kernel': 'rbf'},\n",
       " {'clf__C': 7.38905609893065,\n",
       "  'clf__gamma': 2.718281828459045,\n",
       "  'clf__kernel': 'rbf'},\n",
       " {'clf__C': 7.38905609893065,\n",
       "  'clf__gamma': 7.38905609893065,\n",
       "  'clf__kernel': 'rbf'},\n",
       " {'clf__C': 7.38905609893065,\n",
       "  'clf__gamma': 20.085536923187668,\n",
       "  'clf__kernel': 'rbf'},\n",
       " {'clf__C': 20.085536923187668,\n",
       "  'clf__gamma': 0.01831563888873418,\n",
       "  'clf__kernel': 'rbf'},\n",
       " {'clf__C': 20.085536923187668,\n",
       "  'clf__gamma': 0.049787068367863944,\n",
       "  'clf__kernel': 'rbf'},\n",
       " {'clf__C': 20.085536923187668,\n",
       "  'clf__gamma': 0.1353352832366127,\n",
       "  'clf__kernel': 'rbf'},\n",
       " {'clf__C': 20.085536923187668,\n",
       "  'clf__gamma': 0.36787944117144233,\n",
       "  'clf__kernel': 'rbf'},\n",
       " {'clf__C': 20.085536923187668, 'clf__gamma': 1.0, 'clf__kernel': 'rbf'},\n",
       " {'clf__C': 20.085536923187668,\n",
       "  'clf__gamma': 2.718281828459045,\n",
       "  'clf__kernel': 'rbf'},\n",
       " {'clf__C': 20.085536923187668,\n",
       "  'clf__gamma': 7.38905609893065,\n",
       "  'clf__kernel': 'rbf'},\n",
       " {'clf__C': 20.085536923187668,\n",
       "  'clf__gamma': 20.085536923187668,\n",
       "  'clf__kernel': 'rbf'}]"
      ]
     },
     "execution_count": 8,
     "metadata": {},
     "output_type": "execute_result"
    }
   ],
   "source": [
    "gs.cv_results_[\"params\"]"
   ]
  },
  {
   "cell_type": "code",
   "execution_count": 9,
   "metadata": {},
   "outputs": [
    {
     "data": {
      "text/plain": [
       "array([0.95436839, 0.95715081, 0.95770729, 0.95770729, 0.95826377,\n",
       "       0.95826377, 0.95826377, 0.95826377, 0.67501391, 0.21368948,\n",
       "       0.10239288, 0.10127991, 0.10127991, 0.10127991, 0.11185309,\n",
       "       0.11185309, 0.89426822, 0.7968837 , 0.10406233, 0.10127991,\n",
       "       0.10127991, 0.10127991, 0.11185309, 0.11185309, 0.92487479,\n",
       "       0.89315526, 0.22426266, 0.10127991, 0.10127991, 0.10127991,\n",
       "       0.11185309, 0.11185309, 0.94880356, 0.93377852, 0.59933222,\n",
       "       0.11074012, 0.10127991, 0.10127991, 0.11185309, 0.11185309,\n",
       "       0.96605454, 0.95659432, 0.85141903, 0.38397329, 0.11908737,\n",
       "       0.10239288, 0.10127991, 0.10127991, 0.9705064 , 0.95882026,\n",
       "       0.8558709 , 0.42459655, 0.12966055, 0.10350584, 0.10127991,\n",
       "       0.10127991, 0.96828047, 0.95882026, 0.8558709 , 0.42459655,\n",
       "       0.12966055, 0.10350584, 0.10127991, 0.10127991, 0.96828047,\n",
       "       0.95882026, 0.8558709 , 0.42459655, 0.12966055, 0.10350584,\n",
       "       0.10127991, 0.10127991])"
      ]
     },
     "execution_count": 9,
     "metadata": {},
     "output_type": "execute_result"
    }
   ],
   "source": [
    "gs.cv_results_[\"mean_test_score\"]"
   ]
  },
  {
   "cell_type": "code",
   "execution_count": 10,
   "metadata": {},
   "outputs": [
    {
     "name": "stdout",
     "output_type": "stream",
     "text": [
      "0.9705063995548135\n",
      "{'clf__C': 2.718281828459045, 'clf__gamma': 0.01831563888873418, 'clf__kernel': 'rbf'}\n"
     ]
    }
   ],
   "source": [
    "print(gs.best_score_)\n",
    "print(gs.best_params_)"
   ]
  },
  {
   "cell_type": "code",
   "execution_count": 11,
   "metadata": {},
   "outputs": [
    {
     "data": {
      "text/plain": [
       "[{'a': 1, 'b': True},\n",
       " {'a': 1, 'b': False},\n",
       " {'a': 2, 'b': True},\n",
       " {'a': 2, 'b': False}]"
      ]
     },
     "execution_count": 11,
     "metadata": {},
     "output_type": "execute_result"
    }
   ],
   "source": [
    "### Parameter Grid: 임의의 파라미터 조합하여 탐색할 경우\n",
    "from sklearn.model_selection import ParameterGrid\n",
    "\n",
    "# for example,\n",
    "param_grid = {'a':[1,2], 'b': [True, False]}\n",
    "list(ParameterGrid(param_grid))"
   ]
  },
  {
   "cell_type": "code",
   "execution_count": 12,
   "metadata": {},
   "outputs": [
    {
     "data": {
      "text/plain": [
       "[{'kernel': 'linear'},\n",
       " {'gamma': 1, 'kernel': 'rbf'},\n",
       " {'gamma': 10, 'kernel': 'rbf'}]"
      ]
     },
     "execution_count": 12,
     "metadata": {},
     "output_type": "execute_result"
    }
   ],
   "source": [
    "param_grid = [{'kernel': ['linear']}, {'kernel': ['rbf'], 'gamma': [1,10]}]\n",
    "list(ParameterGrid(param_grid))"
   ]
  },
  {
   "cell_type": "code",
   "execution_count": 13,
   "metadata": {},
   "outputs": [],
   "source": [
    "### 병렬 처리: GridSearchCV나 validation_curve의 n_jobs 값을 늘려주면 parallel processor 사용 가능"
   ]
  },
  {
   "cell_type": "code",
   "execution_count": null,
   "metadata": {},
   "outputs": [],
   "source": []
  }
 ],
 "metadata": {
  "kernelspec": {
   "display_name": "Python [conda env:ptlesson] *",
   "language": "python",
   "name": "conda-env-ptlesson-py"
  },
  "language_info": {
   "codemirror_mode": {
    "name": "ipython",
    "version": 3
   },
   "file_extension": ".py",
   "mimetype": "text/x-python",
   "name": "python",
   "nbconvert_exporter": "python",
   "pygments_lexer": "ipython3",
   "version": "3.7.1"
  }
 },
 "nbformat": 4,
 "nbformat_minor": 4
}
