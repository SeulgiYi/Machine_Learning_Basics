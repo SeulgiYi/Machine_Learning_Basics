{
 "cells": [
  {
   "cell_type": "code",
   "execution_count": 1,
   "metadata": {},
   "outputs": [
    {
     "name": "stdout",
     "output_type": "stream",
     "text": [
      "(23149, 47236)\n",
      "(781265, 47236)\n",
      "CPU times: user 4 µs, sys: 0 ns, total: 4 µs\n",
      "Wall time: 8.82 µs\n"
     ]
    }
   ],
   "source": [
    "# 특징 선택\n",
    "\n",
    "import numpy as np\n",
    "import pandas as pd\n",
    "import scipy as sp\n",
    "import matplotlib.pyplot as plt\n",
    "import seaborn as sns\n",
    "from sklearn.datasets import make_classification\n",
    "from matplotlib import rc\n",
    "import matplotlib as mpl\n",
    "import warnings\n",
    "warnings.filterwarnings(action=\"ignore\")\n",
    "rc('font', family=\"AppleGothic\")\n",
    "%matplotlib inline\n",
    "\n",
    "from sklearn.datasets import fetch_rcv1\n",
    "rcv_train = fetch_rcv1(subset=\"train\")\n",
    "rcv_test = fetch_rcv1(subset=\"test\")\n",
    "X_train = rcv_train.data\n",
    "y_train = rcv_train.target\n",
    "X_test = rcv_test.data\n",
    "y_test = rcv_test.target\n",
    "\n",
    "# One-Hot-Encoding된 라벨을 정수형으로 복원\n",
    "classes = np.arange(rcv_train.target.shape[1])\n",
    "y_train = y_train.dot(classes)\n",
    "y_test = y_test.dot(classes)\n",
    "\n",
    "print(X_train.shape)\n",
    "print(X_test.shape)\n",
    "%time"
   ]
  },
  {
   "cell_type": "code",
   "execution_count": 2,
   "metadata": {},
   "outputs": [
    {
     "name": "stdout",
     "output_type": "stream",
     "text": [
      "(23149, 14330)\n",
      "(781265, 14330)\n"
     ]
    }
   ],
   "source": [
    "### 분산에 의한 선택\n",
    "### : target과 상관관계가 높은 feature를 선택하기 전에 \n",
    "###   feature값 자체의 분산이 작을 경우(변동이 적은 값일 경우) \n",
    "###   모델에 도움이 되지 않을 가능성이 높음. \n",
    "###   target과의 상관관계를 고려하지 않기 때문에 사용에 주의할 필요가 있음. \n",
    "from sklearn.feature_selection import VarianceThreshold\n",
    "\n",
    "selector = VarianceThreshold(1e-5)\n",
    "X_train_sel = selector.fit_transform(X_train)\n",
    "X_test_sel = selector.transform(X_test)\n",
    "print(X_train_sel.shape)\n",
    "print(X_test_sel.shape)"
   ]
  },
  {
   "cell_type": "code",
   "execution_count": 3,
   "metadata": {},
   "outputs": [],
   "source": [
    "from sklearn.naive_bayes import BernoulliNB\n",
    "from sklearn.metrics import accuracy_score"
   ]
  },
  {
   "cell_type": "code",
   "execution_count": 4,
   "metadata": {},
   "outputs": [
    {
     "name": "stdout",
     "output_type": "stream",
     "text": [
      "train accuracy:0.381\n",
      "test accuracy :0.324\n",
      "CPU times: user 16 µs, sys: 6 µs, total: 22 µs\n",
      "Wall time: 42 µs\n"
     ]
    }
   ],
   "source": [
    "model = BernoulliNB()\n",
    "model.fit(X_train, y_train)\n",
    "print(\"train accuracy:{:5.3f}\".format(accuracy_score(y_train, model.predict(X_train))))\n",
    "print(\"test accuracy :{:5.3f}\".format(accuracy_score(y_test, model.predict(X_test))))\n",
    "%time"
   ]
  },
  {
   "cell_type": "code",
   "execution_count": 5,
   "metadata": {},
   "outputs": [
    {
     "name": "stdout",
     "output_type": "stream",
     "text": [
      "train accuracy:0.529\n",
      "test accuracy :0.441\n",
      "CPU times: user 26 µs, sys: 13 µs, total: 39 µs\n",
      "Wall time: 58.2 µs\n"
     ]
    }
   ],
   "source": [
    "model_sel = BernoulliNB()\n",
    "model_sel.fit(X_train_sel, y_train)\n",
    "print(\"train accuracy:{:5.3f}\".format(accuracy_score(y_train, model_sel.predict(X_train_sel))))\n",
    "print(\"test accuracy :{:5.3f}\".format(accuracy_score(y_test, model_sel.predict(X_test_sel))))\n",
    "%time"
   ]
  },
  {
   "cell_type": "code",
   "execution_count": 6,
   "metadata": {},
   "outputs": [],
   "source": [
    "### 단일 변수 선택\n",
    "### : 가장 분류성능 혹은 상관관계가 높은 변수만 선택하는 방법\n",
    "###   단일 변수의 성능이 높은 특징만 모은다고 전체 성능이 반드시 향상된다는 보장은 없음. \n",
    "from sklearn.feature_selection import chi2, SelectKBest"
   ]
  },
  {
   "cell_type": "code",
   "execution_count": 7,
   "metadata": {},
   "outputs": [
    {
     "name": "stdout",
     "output_type": "stream",
     "text": [
      "train accuracy:0.505\n",
      "test accuracy :0.438\n",
      "CPU times: user 21 µs, sys: 7 µs, total: 28 µs\n",
      "Wall time: 34.8 µs\n"
     ]
    }
   ],
   "source": [
    "selector1 = SelectKBest(chi2, k=X_train_sel.shape[1])\n",
    "X_train1 = selector1.fit_transform(X_train, y_train)\n",
    "X_test1 = selector1.transform(X_test)\n",
    "\n",
    "model = BernoulliNB()\n",
    "model.fit(X_train1, y_train)\n",
    "print(\"train accuracy:{:5.3f}\".format(accuracy_score(y_train, model.predict(X_train1))))\n",
    "print(\"test accuracy :{:5.3f}\".format(accuracy_score(y_test, model.predict(X_test1))))\n",
    "%time"
   ]
  },
  {
   "cell_type": "code",
   "execution_count": 8,
   "metadata": {},
   "outputs": [],
   "source": [
    "### 다른 모형을 이용한 특성 중요도 계산\n",
    "from sklearn.feature_selection import SelectFromModel\n",
    "from sklearn.ensemble import ExtraTreesClassifier"
   ]
  },
  {
   "cell_type": "code",
   "execution_count": 9,
   "metadata": {},
   "outputs": [
    {
     "data": {
      "image/png": "[encoded data removed]",
      "text/plain": [
       "<Figure size 576x288 with 1 Axes>"
      ]
     },
     "metadata": {
      "needs_background": "light"
     },
     "output_type": "display_data"
    },
    {
     "name": "stdout",
     "output_type": "stream",
     "text": [
      "CPU times: user 3 µs, sys: 1e+03 ns, total: 4 µs\n",
      "Wall time: 5.72 µs\n"
     ]
    }
   ],
   "source": [
    "n_sample = 10000\n",
    "idx = np.random.choice(range(len(y_train)), n_sample)\n",
    "\n",
    "model_sel = ExtraTreesClassifier(n_estimators=50).fit(X_train[idx,:], y_train[idx])\n",
    "\n",
    "fi = model_sel.feature_importances_\n",
    "fi_idx = np.argsort(fi)\n",
    "\n",
    "plt.figure(figsize=(8,4))\n",
    "plt.bar(range(10), fi[fi_idx[-10:]])\n",
    "plt.xticks(range(10), fi_idx[-10:])\n",
    "plt.gca().invert_xaxis()\n",
    "plt.title('Top 10 features')\n",
    "plt.xlabel('feature index')\n",
    "plt.ylabel('feature importance')\n",
    "plt.show()\n",
    "\n",
    "selector = SelectFromModel(model_sel, prefit=True, max_features=X_train_sel.shape[1])\n",
    "X_train_sel = selector.transform(X_train)\n",
    "X_test_sel = selector.transform(X_test)\n",
    "%time"
   ]
  },
  {
   "cell_type": "code",
   "execution_count": 10,
   "metadata": {},
   "outputs": [
    {
     "name": "stdout",
     "output_type": "stream",
     "text": [
      "train accuracy:0.602\n",
      "test accuracy :0.491\n",
      "CPU times: user 16 µs, sys: 7 µs, total: 23 µs\n",
      "Wall time: 44.1 µs\n"
     ]
    }
   ],
   "source": [
    "\n",
    "model_sel = BernoulliNB()\n",
    "model_sel.fit(X_train_sel, y_train)\n",
    "print(\"train accuracy:{:5.3f}\".format(accuracy_score(y_train, model_sel.predict(X_train_sel))))\n",
    "print(\"test accuracy :{:5.3f}\".format(accuracy_score(y_test, model_sel.predict(X_test_sel))))\n",
    "%time"
   ]
  },
  {
   "cell_type": "code",
   "execution_count": null,
   "metadata": {},
   "outputs": [],
   "source": []
  }
 ],
 "metadata": {
  "kernelspec": {
   "display_name": "Python [conda env:ptlesson] *",
   "language": "python",
   "name": "conda-env-ptlesson-py"
  },
  "language_info": {
   "codemirror_mode": {
    "name": "ipython",
    "version": 3
   },
   "file_extension": ".py",
   "mimetype": "text/x-python",
   "name": "python",
   "nbconvert_exporter": "python",
   "pygments_lexer": "ipython3",
   "version": "3.7.1"
  }
 },
 "nbformat": 4,
 "nbformat_minor": 4
}
