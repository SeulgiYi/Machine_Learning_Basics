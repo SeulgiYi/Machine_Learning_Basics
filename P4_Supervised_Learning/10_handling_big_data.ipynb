{
 "cells": [
  {
   "cell_type": "code",
   "execution_count": 1,
   "metadata": {},
   "outputs": [],
   "source": [
    "# Big Data 학습\n",
    "# : 메모리 등의 문제로 다음과 같은 모형을 주로 사용함\n",
    "# - 사전 확률분포를 설정할 수 있는 모형\n",
    "# - 시작 가중치를 설정할 수 있는 모형\n",
    "\n",
    "import numpy as np\n",
    "import pandas as pd\n",
    "import scipy as sp\n",
    "import matplotlib.pyplot as plt\n",
    "import seaborn as sns\n",
    "from sklearn.datasets import make_classification\n",
    "from matplotlib import rc\n",
    "import matplotlib as mpl\n",
    "import warnings\n",
    "warnings.filterwarnings(action=\"ignore\")\n",
    "rc('font', family=\"AppleGothic\")\n",
    "%matplotlib inline\n",
    "\n",
    "### Get data \n",
    "from sklearn.datasets import fetch_covtype\n",
    "from sklearn.model_selection import train_test_split\n",
    "from sklearn.preprocessing import MinMaxScaler\n",
    "\n",
    "covtype = fetch_covtype(shuffle=True, random_state=0)\n",
    "X_covtype = covtype.data\n",
    "y_covtype = covtype.target - 1\n",
    "classes = np.unique(y_covtype)\n",
    "X_train, X_test, y_train, y_test = train_test_split(X_covtype, y_covtype) \n",
    "# train:test = 0.75:0.25 (default)\n",
    "\n",
    "scaler = MinMaxScaler()\n",
    "X_train = scaler.fit_transform(X_train) # cal. mean and std and transform\n",
    "X_test = scaler.transform(X_test) # transform\n",
    "\n",
    "def read_Xy(start, end):\n",
    "    idx = list(range(start, min(len(y_train)-1, end)))\n",
    "    X = X_train[idx,:]\n",
    "    y = y_train[idx]\n",
    "    return X, y"
   ]
  },
  {
   "cell_type": "code",
   "execution_count": 2,
   "metadata": {},
   "outputs": [
    {
     "name": "stdout",
     "output_type": "stream",
     "text": [
      "epoch=0, train acc.=0.706, test acc.=0.707\n",
      "epoch=1, train acc.=0.709, test acc.=0.709\n",
      "epoch=2, train acc.=0.710, test acc.=0.710\n",
      "epoch=3, train acc.=0.712, test acc.=0.713\n",
      "epoch=4, train acc.=0.712, test acc.=0.712\n",
      "epoch=5, train acc.=0.712, test acc.=0.712\n",
      "epoch=6, train acc.=0.712, test acc.=0.712\n",
      "epoch=7, train acc.=0.712, test acc.=0.712\n",
      "epoch=8, train acc.=0.712, test acc.=0.712\n",
      "epoch=9, train acc.=0.712, test acc.=0.712\n",
      "CPU times: user 3 µs, sys: 1 µs, total: 4 µs\n",
      "Wall time: 7.87 µs\n"
     ]
    }
   ],
   "source": [
    "### SGD\n",
    "### : 일부데이터를 사용하여 초기 가중치 계산 가능\n",
    "from sklearn.linear_model import SGDClassifier\n",
    "from sklearn.model_selection import KFold\n",
    "from sklearn.metrics import accuracy_score\n",
    "\n",
    "model = SGDClassifier(random_state=0)\n",
    "n_split = 10\n",
    "n_X = len(y_train) // n_split\n",
    "n_epoch = 10\n",
    "for epoch in range(n_epoch):\n",
    "    for n in range(n_split):\n",
    "        X, y = read_Xy(n*n_X, (n+1)*n_X)\n",
    "        model.partial_fit(X, y, classes=classes)\n",
    "    accuracy_train = accuracy_score(y_train, model.predict(X_train))\n",
    "    accuracy_test  = accuracy_score(y_test, model.predict(X_test))\n",
    "    print(\"epoch={:d}, train acc.={:5.3f}, test acc.={:5.3f}\".format(epoch, accuracy_train, accuracy_test))\n",
    "%time"
   ]
  },
  {
   "cell_type": "code",
   "execution_count": 3,
   "metadata": {},
   "outputs": [
    {
     "name": "stdout",
     "output_type": "stream",
     "text": [
      "n=0, train acc.=0.630, test acc.=0.629\n",
      "n=1, train acc.=0.633, test acc.=0.632\n",
      "n=2, train acc.=0.632, test acc.=0.631\n",
      "n=3, train acc.=0.633, test acc.=0.632\n",
      "n=4, train acc.=0.633, test acc.=0.632\n",
      "n=5, train acc.=0.634, test acc.=0.632\n",
      "n=6, train acc.=0.634, test acc.=0.632\n",
      "n=7, train acc.=0.633, test acc.=0.632\n",
      "n=8, train acc.=0.632, test acc.=0.631\n",
      "n=9, train acc.=0.633, test acc.=0.632\n",
      "CPU times: user 11 µs, sys: 2 µs, total: 13 µs\n",
      "Wall time: 11 µs\n"
     ]
    }
   ],
   "source": [
    "### Naive Bayes\n",
    "### : 일부 데이터를 이용하여 구한 확률분포를 사전확률분포로 사용 가능\n",
    "from sklearn.naive_bayes import BernoulliNB\n",
    "from sklearn.model_selection import KFold\n",
    "from sklearn.metrics import accuracy_score\n",
    "\n",
    "model = BernoulliNB()\n",
    "n_split = 10\n",
    "n_X = len(y_train) // n_split\n",
    "for n in range(n_split):\n",
    "    X, y = read_Xy(n*n_X, (n+1)*n_X)\n",
    "    model.partial_fit(X, y, classes=classes)\n",
    "    accuracy_train = accuracy_score(y_train, model.predict(X_train))\n",
    "    accuracy_test  = accuracy_score(y_test, model.predict(X_test))\n",
    "    print(\"n={:d}, train acc.={:5.3f}, test acc.={:5.3f}\".format(n, accuracy_train, accuracy_test))\n",
    "%time"
   ]
  },
  {
   "cell_type": "code",
   "execution_count": 4,
   "metadata": {},
   "outputs": [
    {
     "name": "stdout",
     "output_type": "stream",
     "text": [
      "n=0, train acc.=0.776, test acc.=0.774\n",
      "n=1, train acc.=0.796, test acc.=0.792\n",
      "n=2, train acc.=0.812, test acc.=0.809\n",
      "n=3, train acc.=0.827, test acc.=0.823\n",
      "n=4, train acc.=0.835, test acc.=0.830\n",
      "n=5, train acc.=0.844, test acc.=0.839\n",
      "n=6, train acc.=0.848, test acc.=0.842\n",
      "n=7, train acc.=0.854, test acc.=0.847\n",
      "n=8, train acc.=0.858, test acc.=0.851\n",
      "n=9, train acc.=0.847, test acc.=0.840\n",
      "CPU times: user 5 µs, sys: 2 µs, total: 7 µs\n",
      "Wall time: 10 µs\n"
     ]
    }
   ],
   "source": [
    "### Gradient Boosting\n",
    "### : 초기 커미티 멤버로 일부 데이터를 사용하여 학습한 모형을 사용할 수 있음\n",
    "from lightgbm import train, Dataset\n",
    "from sklearn.model_selection import KFold\n",
    "from sklearn.metrics import accuracy_score\n",
    "\n",
    "params = {\n",
    "    'objective': 'multiclass', \n",
    "    'num_class': len(classes),\n",
    "    'learning_rate': 0.2, \n",
    "    'seed':0,    \n",
    "}\n",
    "\n",
    "n_split = 10\n",
    "n_X = len(y_train) // n_split\n",
    "num_tree = 10\n",
    "model = None\n",
    "for n in range(n_split):\n",
    "    X, y = read_Xy(n*n_X, (n+1)*n_X)\n",
    "    model = train(params, init_model=model, train_set=Dataset(X,y),\n",
    "                  keep_training_booster=False, num_boost_round=num_tree)\n",
    "    accuracy_train = accuracy_score(y_train, np.argmax(model.predict(X_train), axis=1))\n",
    "    accuracy_test  = accuracy_score(y_test, np.argmax(model.predict(X_test), axis=1))\n",
    "    print(\"n={:d}, train acc.={:5.3f}, test acc.={:5.3f}\".format(n, accuracy_train, accuracy_test))\n",
    "%time"
   ]
  },
  {
   "cell_type": "code",
   "execution_count": 6,
   "metadata": {},
   "outputs": [
    {
     "name": "stdout",
     "output_type": "stream",
     "text": [
      "epoch=0 train accuracy=0.866 test accuracy=0.852\n",
      "epoch=1 train accuracy=0.890 test accuracy=0.873\n",
      "epoch=2 train accuracy=0.899 test accuracy=0.880\n",
      "epoch=3 train accuracy=0.902 test accuracy=0.883\n",
      "epoch=4 train accuracy=0.904 test accuracy=0.885\n",
      "epoch=5 train accuracy=0.906 test accuracy=0.886\n",
      "epoch=6 train accuracy=0.907 test accuracy=0.887\n",
      "epoch=7 train accuracy=0.907 test accuracy=0.888\n",
      "epoch=8 train accuracy=0.908 test accuracy=0.888\n",
      "epoch=9 train accuracy=0.909 test accuracy=0.888\n",
      "CPU times: user 13 µs, sys: 1e+03 ns, total: 14 µs\n",
      "Wall time: 12.9 µs\n"
     ]
    }
   ],
   "source": [
    "### Random Forest\n",
    "### : Ensemble 계열에서는 일부 데이터를 사용한 모형을 개별 분류기\n",
    "from sklearn.ensemble import RandomForestClassifier\n",
    "from sklearn.model_selection import KFold\n",
    "from sklearn.metrics import accuracy_score\n",
    "\n",
    "n_split = 10\n",
    "n_X = len(y_train) // n_split\n",
    "num_tree_init = 10\n",
    "num_tree_step = 10\n",
    "model = RandomForestClassifier(n_estimators=num_tree_init, warm_start=True)\n",
    "for n in range(n_split):\n",
    "    X, y = read_Xy(n*n_X, (n+1)*n_X)\n",
    "    model.fit(X, y)\n",
    "    accuracy_train = accuracy_score(y_train, model.predict(X_train))\n",
    "    accuracy_test = accuracy_score(y_test, model.predict(X_test))\n",
    "    print(\"epoch={:d} train accuracy={:5.3f} test accuracy={:5.3f}\".format(n, accuracy_train, accuracy_test))\n",
    "    \n",
    "    model.n_estimators += num_tree_step\n",
    "%time\n",
    "    "
   ]
  },
  {
   "cell_type": "code",
   "execution_count": null,
   "metadata": {},
   "outputs": [],
   "source": []
  }
 ],
 "metadata": {
  "kernelspec": {
   "display_name": "Python [conda env:ptlesson] *",
   "language": "python",
   "name": "conda-env-ptlesson-py"
  },
  "language_info": {
   "codemirror_mode": {
    "name": "ipython",
    "version": 3
   },
   "file_extension": ".py",
   "mimetype": "text/x-python",
   "name": "python",
   "nbconvert_exporter": "python",
   "pygments_lexer": "ipython3",
   "version": "3.7.1"
  }
 },
 "nbformat": 4,
 "nbformat_minor": 4
}
