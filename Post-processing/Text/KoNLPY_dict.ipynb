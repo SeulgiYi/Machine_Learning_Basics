{
 "cells": [
  {
   "cell_type": "code",
   "execution_count": 1,
   "metadata": {},
   "outputs": [
    {
     "data": {
      "text/plain": [
       "[('자유', 'NNG'),\n",
       " ('한국당', 'NNP'),\n",
       " (',', 'SP'),\n",
       " ('\"', 'SS'),\n",
       " ('박근혜', 'NNP'),\n",
       " ('-', 'SS'),\n",
       " ('최순', 'NNP'),\n",
       " ('실', 'NNP'),\n",
       " ('국정', 'NNG'),\n",
       " ('농', 'NNG'),\n",
       " ('단', 'NNG'),\n",
       " ('태블릿 PC', 'NNP'),\n",
       " ('는', 'JX'),\n",
       " ('거짓', 'NNG'),\n",
       " ('\"', 'SS'),\n",
       " ('이라고', 'JKQ'),\n",
       " ('주장', 'NNG')]"
      ]
     },
     "execution_count": 1,
     "metadata": {},
     "output_type": "execute_result"
    }
   ],
   "source": [
    "# KoNLPy 사용자 사전 추가\n",
    "import konlpy\n",
    "from konlpy.tag import Komoran\n",
    "from konlpy.tag import Hannanum\n",
    "from konlpy.tag import Kkma\n",
    "import warnings\n",
    "warnings.simplefilter(\"ignore\")\n",
    "\n",
    "sentence = '자유한국당, \"박근혜-최순실 국정농단 태블릿 PC는 거짓\"이라고 주장'\n",
    "\n",
    "komoran = Komoran()\n",
    "komoran.pos(sentence)"
   ]
  },
  {
   "cell_type": "code",
   "execution_count": 3,
   "metadata": {},
   "outputs": [
    {
     "data": {
      "text/plain": [
       "[('자유한국당,', 'N'),\n",
       " ('\"박근혜-최순실', 'N'),\n",
       " ('국정농단', 'N'),\n",
       " ('태블릿', 'N'),\n",
       " ('PC', 'F'),\n",
       " ('는', 'J'),\n",
       " ('거짓', 'N'),\n",
       " ('\"', 'S'),\n",
       " ('이', 'J'),\n",
       " ('라', 'E'),\n",
       " ('고', 'J'),\n",
       " ('주장', 'N')]"
      ]
     },
     "execution_count": 3,
     "metadata": {},
     "output_type": "execute_result"
    }
   ],
   "source": [
    "hannanum = Hannanum()\n",
    "hannanum.pos(sentence)"
   ]
  },
  {
   "cell_type": "code",
   "execution_count": 4,
   "metadata": {},
   "outputs": [
    {
     "name": "stdout",
     "output_type": "stream",
     "text": [
      "그분들\tnpp\n",
      "극진\tncps\n",
      "당신들\tnpp\n",
      "동량재\tncn\n",
      "서충원\tncn\n",
      "우체통\tncn\n",
      "의미\tncpa\n",
      "이신목\tnqpc\n",
      "자동사\tncn\n",
      "·\tsy"
     ]
    }
   ],
   "source": [
    "### hannanum dictionary\n",
    "#(base) \n",
    "#dic_user=\"~/anaconda3/lib/python3.6/site-packages/konlpy/java/data/kE/dic_user.txt\"\n",
    "#(ptlesson)\n",
    "dic_user=\"/Users/seulgi/anaconda3/envs/ptlesson/lib/python3.7/site-packages/konlpy/java/data/kE/dic_user.txt\"\n",
    "!tail {dic_user}"
   ]
  },
  {
   "cell_type": "code",
   "execution_count": 7,
   "metadata": {},
   "outputs": [
    {
     "name": "stdout",
     "output_type": "stream",
     "text": [
      "극진\tncps\n",
      "당신들\tnpp\n",
      "동량재\tncn\n",
      "서충원\tncn\n",
      "우체통\tncn\n",
      "의미\tncpa\n",
      "이신목\tnqpc\n",
      "자동사\tncn\n",
      "·\tsy\n",
      "최순실\tnq\n"
     ]
    }
   ],
   "source": [
    "!cp {dic_user}.org  {dic_user}\n",
    "!echo \"\\n최순실\\tnq\" >> {dic_user}\n",
    "!tail {dic_user}"
   ]
  },
  {
   "cell_type": "code",
   "execution_count": 8,
   "metadata": {},
   "outputs": [
    {
     "data": {
      "text/plain": [
       "[('자유한국당,', 'N'),\n",
       " ('\"', 'S'),\n",
       " ('박근혜', 'N'),\n",
       " ('-', 'S'),\n",
       " ('최순실', 'N'),\n",
       " ('국정농단', 'N'),\n",
       " ('태블릿', 'N'),\n",
       " ('PC', 'F'),\n",
       " ('는', 'J'),\n",
       " ('거짓', 'N'),\n",
       " ('\"', 'S'),\n",
       " ('이', 'J'),\n",
       " ('라', 'E'),\n",
       " ('고', 'J'),\n",
       " ('주장', 'N')]"
      ]
     },
     "execution_count": 8,
     "metadata": {},
     "output_type": "execute_result"
    }
   ],
   "source": [
    "hannanum = Hannanum()\n",
    "hannanum.pos(sentence)"
   ]
  },
  {
   "cell_type": "code",
   "execution_count": 9,
   "metadata": {},
   "outputs": [
    {
     "data": {
      "text/plain": [
       "[('자유', 'NNG'),\n",
       " ('한국', 'NNG'),\n",
       " ('당', 'NNG'),\n",
       " (',', 'SP'),\n",
       " ('\"', 'SS'),\n",
       " ('박근', 'NNG'),\n",
       " ('혜', 'UN'),\n",
       " ('-', 'SW'),\n",
       " ('최', 'NNP'),\n",
       " ('순', 'NNG'),\n",
       " ('실', 'NNG'),\n",
       " ('국정', 'NNG'),\n",
       " ('농단', 'NNG'),\n",
       " ('태블릿', 'NNG'),\n",
       " ('PC', 'OL'),\n",
       " ('는', 'JX'),\n",
       " ('거짓', 'NNG'),\n",
       " ('\"', 'SS'),\n",
       " ('이', 'VCP'),\n",
       " ('라고', 'ECD'),\n",
       " ('주장', 'NNG')]"
      ]
     },
     "execution_count": 9,
     "metadata": {},
     "output_type": "execute_result"
    }
   ],
   "source": [
    "kkma = Kkma()\n",
    "kkma.pos(sentence)"
   ]
  },
  {
   "cell_type": "code",
   "execution_count": 11,
   "metadata": {},
   "outputs": [],
   "source": [
    "### kkam dictionary \n",
    "# (ptlesson)\n",
    "# kkam_jar=\"/Users/seulgi/anaconda3/envs/ptlesson/lib/python3.7/site-packages/konlpy/java/kkma-2.0.jar\"\n",
    "# (base)\n",
    "# kkam_jar=\"~/anaconda3/lib/python3.6/site-packages/konlpy/java/kkam-2.0.jar\"\n",
    "# $ cd kkma_jar_directory/java\n",
    "# $ mkdir kkma \n",
    "# $ cd kkma\n",
    "# $ jar xvf ../kkma-2.0.jar\n",
    "# $ cd dic\n",
    "# $ vi noun.dic\n",
    "# (변경사항 저장 후)\n",
    "# $ cd ..\n",
    "# $ jar cvf kkma-2.0.jar *\n",
    "# $ mv kkma-2.0.jar ../\n",
    "# (original jar 파일은 /java/original_jar 에 모두 복사해둠)\n"
   ]
  },
  {
   "cell_type": "code",
   "execution_count": null,
   "metadata": {},
   "outputs": [],
   "source": [
    ">>> from konlpy.tag import Kkma\n",
    ">>> kkma = Kkma()\n",
    ">>> sentence = '자유한국당 \"박근혜-최순실 국정농단 태블릿 PC는 거짓\"이라고 주장'\n",
    ">>> kkma.pos(sentence)\n",
    "[('자유', 'NNG'), ('한국', 'NNG'), ('당', 'NNG'), ('\"', 'SS'), ('박근', 'NNG'), ('혜', 'UN'), ('-', 'SW'), ('최순실', 'NNG'), ('국정', 'NNG'), ('농단', 'NNG'), ('태블릿', 'NNG'), ('PC', 'OL'), ('는', 'JX'), ('거짓', 'NNG'), ('\"', 'SS'), ('이', 'VCP'), ('라고', 'ECD'), ('주장', 'NNG')]\n",
    ">>> "
   ]
  }
 ],
 "metadata": {
  "kernelspec": {
   "display_name": "Python [conda env:ptlesson] *",
   "language": "python",
   "name": "conda-env-ptlesson-py"
  },
  "language_info": {
   "codemirror_mode": {
    "name": "ipython",
    "version": 3
   },
   "file_extension": ".py",
   "mimetype": "text/x-python",
   "name": "python",
   "nbconvert_exporter": "python",
   "pygments_lexer": "ipython3",
   "version": "3.7.4"
  }
 },
 "nbformat": 4,
 "nbformat_minor": 4
}
